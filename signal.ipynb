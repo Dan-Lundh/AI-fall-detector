{
 "cells": [
  {
   "cell_type": "code",
   "execution_count": 51,
   "metadata": {},
   "outputs": [],
   "source": [
    "# web adress http://192.168.0.103\n",
    "\n",
    "# adress to chaired \n",
    "_client_adress=\"http://192.168.68.100\"\n",
    "\n",
    "import requests\n",
    "from bs4 import BeautifulSoup\n",
    "import time\n",
    "import re\n",
    "import json\n",
    "import matplotlib.pyplot as plt"
   ]
  },
  {
   "cell_type": "code",
   "execution_count": 57,
   "metadata": {},
   "outputs": [
    {
     "name": "stdout",
     "output_type": "stream",
     "text": [
      "Response HTTP Status Code: 200\n"
     ]
    }
   ],
   "source": [
    "url=_client_adress \n",
    "\n",
    "PP_CHANNELS = [\"accX\", \"accY\", \"accZ\"]\n",
    "\n",
    "response = requests.get(\n",
    "            url=f\"{url}/get?\"+(\"&\".join(PP_CHANNELS))       # this can be changed for other audio types\n",
    "        )\n",
    "\n",
    "print(f'Response HTTP Status Code: {response.status_code}')"
   ]
  },
  {
   "cell_type": "code",
   "execution_count": 63,
   "metadata": {},
   "outputs": [
    {
     "name": "stdout",
     "output_type": "stream",
     "text": [
      "b'{\"status\":{\"measuring\":true,\"timedRun\":false,\"countDown\":0,\"session\":\"9075072\"},\"buffer\":{\"accZ\":{\"buffer\":[0.033019811511039734],\"updateMode\":\"single\",\"size\":0},\"accX\":{\"buffer\":[-0.018092454671859742],\"updateMode\":\"single\",\"size\":0},\"accY\":{\"size\":0,\"buffer\":[-0.0022443075478076938],\"updateMode\":\"single\"}}}'\n",
      "{'status': {'measuring': True, 'timedRun': False, 'countDown': 0, 'session': '9075072'}, 'buffer': {'accZ': {'buffer': [0.033019811511039734], 'updateMode': 'single', 'size': 0}, 'accX': {'buffer': [-0.018092454671859742], 'updateMode': 'single', 'size': 0}, 'accY': {'size': 0, 'buffer': [-0.002244307547807694], 'updateMode': 'single'}}}\n",
      "-0.018092454671859742 -0.002244307547807694 0.033019811511039734\n"
     ]
    }
   ],
   "source": [
    "print(response.content)\n",
    "raw_data = response.content\n",
    "data = json.loads(raw_data.decode('utf-8')) \n",
    "print(data)\n",
    "x=data[\"buffer\"]['accX']['buffer'][0]\n",
    "y=data[\"buffer\"]['accY']['buffer'][0]\n",
    "z=data[\"buffer\"]['accZ']['buffer'][0]\n",
    "print(x,y,z)"
   ]
  },
  {
   "cell_type": "code",
   "execution_count": 48,
   "metadata": {},
   "outputs": [
    {
     "name": "stdout",
     "output_type": "stream",
     "text": [
      "HTTP Request failed\n"
     ]
    }
   ],
   "source": [
    "PP_ADDRESS = \"http://192.168.68.100:8080\"\n",
    "#PP_CHANNELS = [\"accX\", \"accY\", \"accZ\"] #If using different CC channels, define multiple phyphox buffers\n",
    "PP_CHANNELS = [\"accY\"]\n",
    "\n",
    "\n",
    "def send_request():\n",
    "\n",
    "    try:\n",
    "        url2 = PP_ADDRESS + \"/get?\" + (\"&\".join(PP_CHANNELS))\n",
    "        response = requests.get(\n",
    "            url=f\"{url}/get?recording=full&time=full\"       # this can be changed for other audio types\n",
    "            #url=f\"{url2}\"\n",
    "        ).json\n",
    "        print(f'Response HTTP Status Code: {response.status_code}')\n",
    "        # print(f'Response HTTP Response Body: {response.content}')\n",
    "        return response.content\n",
    "    except requests.exceptions.RequestException:\n",
    "        print('HTTP Request failed')\n",
    "\n",
    "\n",
    "def graph(raw):\n",
    "    data = json.loads(raw.decode('utf-8'))              # Turns data into a large dictionary\n",
    "    amplitude = data[\"buffer\"][\"recording\"][\"buffer\"]   # This location depends on the sensor type\n",
    "    t = data[\"buffer\"][\"time\"][\"buffer\"]\n",
    "    print(amplitude)\n",
    "    plt.plot(t, amplitude)\n",
    "    plt.show()\n",
    "\n",
    "\n",
    "url = \"url\"         # insert url from phyphox here\n",
    "\n",
    "raw_data = send_request()\n",
    "if raw_data:\n",
    "    graph(raw_data)"
   ]
  },
  {
   "cell_type": "code",
   "execution_count": null,
   "metadata": {},
   "outputs": [],
   "source": []
  },
  {
   "cell_type": "code",
   "execution_count": null,
   "metadata": {},
   "outputs": [],
   "source": []
  }
 ],
 "metadata": {
  "kernelspec": {
   "display_name": "venv",
   "language": "python",
   "name": "python3"
  },
  "language_info": {
   "codemirror_mode": {
    "name": "ipython",
    "version": 3
   },
   "file_extension": ".py",
   "mimetype": "text/x-python",
   "name": "python",
   "nbconvert_exporter": "python",
   "pygments_lexer": "ipython3",
   "version": "3.11.7"
  }
 },
 "nbformat": 4,
 "nbformat_minor": 2
}
